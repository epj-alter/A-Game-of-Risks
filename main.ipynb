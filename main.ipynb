{
 "cells": [
  {
   "cell_type": "code",
   "execution_count": 1,
   "metadata": {},
   "outputs": [
    {
     "name": "stdout",
     "output_type": "stream",
     "text": [
      "           Name     Region                                   Borders Owner  Troops\n",
      "0  Castle Black  The North                               [Dreadfort]   Red       1\n",
      "1     Dreadfort  The North  [Castle Black, Winterfell, White Harbor]  Blue       1\n",
      "2    Winterfell  The North    [Bear Island, Dreadfort, White Harbor]  None       0\n",
      "3   Bear Island  The North                              [Winterfell]   Red       1\n",
      "Blue player's Turn\n",
      "Type in the name of one of the territories above, choose wisely!:\n",
      "winterfell\n"
     ]
    }
   ],
   "source": [
    "import pandas as pd\n",
    "from classes.game import Game\n",
    "\n",
    "\n",
    "new_game = Game()"
   ]
  },
  {
   "cell_type": "code",
   "execution_count": 2,
   "metadata": {},
   "outputs": [
    {
     "name": "stdout",
     "output_type": "stream",
     "text": [
      "           Name     Region                                   Borders Owner  Troops\n",
      "0  Castle Black  The North                               [Dreadfort]   Red       1\n",
      "1     Dreadfort  The North  [Castle Black, Winterfell, White Harbor]  Blue       1\n",
      "2    Winterfell  The North    [Bear Island, Dreadfort, White Harbor]  Blue       1\n",
      "3   Bear Island  The North                              [Winterfell]   Red       1\n"
     ]
    }
   ],
   "source": [
    "new_game.world.show_territories()"
   ]
  },
  {
   "cell_type": "code",
   "execution_count": 3,
   "metadata": {},
   "outputs": [
    {
     "name": "stdout",
     "output_type": "stream",
     "text": [
      "False\n",
      "[{'Name': 'Castle Black', 'Troops': 1}, {'Name': 'Bear Island', 'Troops': 1}]\n",
      "[{'Name': 'Dreadfort', 'Troops': 1}, {'Name': 'Winterfell', 'Troops': 1}]\n"
     ]
    }
   ],
   "source": [
    "print(new_game.players[1].territories == new_game.players[0].territories)\n",
    "print(new_game.players[0].territories)\n",
    "print(new_game.players[1].territories)"
   ]
  },
  {
   "cell_type": "code",
   "execution_count": null,
   "metadata": {},
   "outputs": [],
   "source": [
    "#new_game.players[1].add_territory(\"Hello world\", 123)\n",
    "\n",
    "print(new_game.players[0].territories)\n",
    "print(new_game.players[1].territories)"
   ]
  },
  {
   "cell_type": "code",
   "execution_count": null,
   "metadata": {},
   "outputs": [],
   "source": []
  }
 ],
 "metadata": {
  "kernelspec": {
   "display_name": "Python 3.8.3 64-bit ('ironhack': conda)",
   "language": "python",
   "name": "python38364bitironhackcondae22397c42f6b4fd29a9381c81ac70f68"
  },
  "language_info": {
   "codemirror_mode": {
    "name": "ipython",
    "version": 3
   },
   "file_extension": ".py",
   "mimetype": "text/x-python",
   "name": "python",
   "nbconvert_exporter": "python",
   "pygments_lexer": "ipython3",
   "version": "3.8.3"
  }
 },
 "nbformat": 4,
 "nbformat_minor": 4
}
